{
 "cells": [
  {
   "cell_type": "code",
   "execution_count": 13,
   "metadata": {},
   "outputs": [],
   "source": [
    "import pandas as pd\n",
    "from sklearn.model_selection import train_test_split\n",
    "from sklearn.ensemble import RandomForestClassifier\n",
    "from sklearn.metrics import accuracy_score, classification_report\n",
    "from sklearn.preprocessing import LabelEncoder\n"
   ]
  },
  {
   "cell_type": "code",
   "execution_count": 14,
   "metadata": {},
   "outputs": [
    {
     "name": "stdout",
     "output_type": "stream",
     "text": [
      "First few rows of the dataset:\n",
      "             Case ID              Outcome Date of Decision  \\\n",
      "0   4-1001-2008/1880  PARTIALLY FULFILLED          2/21/20   \n",
      "1   4-1001-2105/3246  PARTIALLY FULFILLED          3/17/21   \n",
      "2  4-1001-2204/10382  PARTIALLY FULFILLED          7/29/22   \n",
      "3    4-1305-2101/562              REFUSED       24.08.2021   \n",
      "4   4-15 01-2102/823  PARTIALLY FULFILLED       04/02/2021   \n",
      "\n",
      "  Bankruptcy Proceedings Initiated Bankruptcy Declared  \\\n",
      "0                               No                  No   \n",
      "1                               No                  No   \n",
      "2                               No                  No   \n",
      "3                               No                  No   \n",
      "4                               No                  No   \n",
      "\n",
      "   Asked Principal Amount  Asked Penalty Amount  Asked Fine  \\\n",
      "0                173500.0             4815030.0         0.0   \n",
      "1             167140250.0            33428050.0         0.0   \n",
      "2             144537391.0            25244960.0         0.0   \n",
      "3               8011788.0             1201768.0         0.0   \n",
      "4                     0.0                   0.0  34863324.0   \n",
      "\n",
      "   Asked Unjustly Withheld Funds  Awarded Principal Amount  ...  \\\n",
      "0                              0                  173500.0  ...   \n",
      "1                              0                47140250.0  ...   \n",
      "2                              0               132439391.0  ...   \n",
      "3                              0                       0.0  ...   \n",
      "4                              0                       0.0  ...   \n",
      "\n",
      "   Presence of Reconciliation Act  Presence of Contract  Presence of Invoice  \\\n",
      "0                             Yes                   Yes                  Yes   \n",
      "1                              No                   Yes                  Yes   \n",
      "2                             Yes                   Yes                  Yes   \n",
      "3                              No                   Yes                  Yes   \n",
      "4                              No                   Yes                   No   \n",
      "\n",
      "  Penalty Conditions Total Value of Delivered Goods Partial Payment Made  \\\n",
      "0                Yes                            0.0                   No   \n",
      "1                Yes                            0.0                  Yes   \n",
      "2                Yes                            0.0                   No   \n",
      "3                 No                            0.0                  Yes   \n",
      "4                Yes                            0.0                   No   \n",
      "\n",
      "  Deadline Specified Presence of Demand Letter Supporting Documents Presented  \\\n",
      "0                Yes                       Yes                            Yes   \n",
      "1                Yes                        No                            Yes   \n",
      "2                Yes                        No                            Yes   \n",
      "3                 No                       Yes                            Yes   \n",
      "4                Yes                        No                            Yes   \n",
      "\n",
      "          Category of a Claim  \n",
      "0               Debt Recovery  \n",
      "1               Debt Recovery  \n",
      "2               Debt Recovery  \n",
      "3               Debt Recovery  \n",
      "4  Fine for Undelivered Goods  \n",
      "\n",
      "[5 rows x 25 columns]\n"
     ]
    }
   ],
   "source": [
    "file_path = 'cases_clean.csv'\n",
    "df = pd.read_csv(file_path)\n",
    "\n",
    "print(\"First few rows of the dataset:\")\n",
    "print(df.head())"
   ]
  },
  {
   "cell_type": "code",
   "execution_count": 15,
   "metadata": {},
   "outputs": [],
   "source": [
    "columns_to_drop = ['Bankruptcy Proceedings Initiated', 'Bankruptcy Declared', 'Plaintiff Represented',\n",
    "                   'Defendant Represented',\n",
    "                   'Case ID', 'Date of Decision', 'Awarded Principal Amount', \n",
    "                   'Awarded Penalty Amount', 'Awarded Fine', 'Awarded Unjustly Withheld Funds', \n",
    "                    'Category of a Claim']\n",
    "df = df.drop(columns=columns_to_drop)\n",
    "\n",
    "binary_cols = ['Supporting Documents Presented', 'Presence of Reconciliation Act', 'Presence of Contract',\n",
    "               'Presence of Invoice', 'Penalty Conditions', 'Partial Payment Made', 'Deadline Specified',\n",
    "               'Presence of Demand Letter']\n",
    "for col in binary_cols:\n",
    "    df[col] = df[col].map({'Yes': 1, 'No': 0})"
   ]
  },
  {
   "cell_type": "code",
   "execution_count": 16,
   "metadata": {},
   "outputs": [],
   "source": [
    "X = df.drop(columns=['Outcome'])\n",
    "y = df['Outcome']\n",
    "\n",
    "le = LabelEncoder()\n",
    "y = le.fit_transform(y)\n",
    "\n",
    "X_train, X_test, y_train, y_test = train_test_split(X, y, test_size=0.2, random_state=42, stratify=y)"
   ]
  },
  {
   "cell_type": "code",
   "execution_count": 17,
   "metadata": {},
   "outputs": [
    {
     "name": "stdout",
     "output_type": "stream",
     "text": [
      "Asked Principal Amount            float64\n",
      "Asked Penalty Amount              float64\n",
      "Asked Fine                        float64\n",
      "Asked Unjustly Withheld Funds       int64\n",
      "Presence of Reconciliation Act      int64\n",
      "Presence of Contract                int64\n",
      "Presence of Invoice                 int64\n",
      "Penalty Conditions                  int64\n",
      "Total Value of Delivered Goods    float64\n",
      "Partial Payment Made                int64\n",
      "Deadline Specified                  int64\n",
      "Presence of Demand Letter           int64\n",
      "Supporting Documents Presented      int64\n",
      "dtype: object\n"
     ]
    }
   ],
   "source": [
    "print(X_train.dtypes)"
   ]
  },
  {
   "cell_type": "code",
   "execution_count": null,
   "metadata": {},
   "outputs": [
    {
     "name": "stdout",
     "output_type": "stream",
     "text": [
      "Best parameters: {'max_depth': 10, 'max_features': 'sqrt', 'min_samples_leaf': 1, 'min_samples_split': 2, 'n_estimators': 100}\n",
      "Best cross-validation score: 0.8237742830712304\n"
     ]
    }
   ],
   "source": [
    "from sklearn.model_selection import GridSearchCV\n",
    "\n",
    "param_grid = {\n",
    "    'n_estimators': [100, 200, 300],\n",
    "    'max_depth': [None, 10, 20, 30],\n",
    "    'min_samples_split': [2, 5, 10],\n",
    "    'min_samples_leaf': [1, 2, 4],\n",
    "    'max_features': ['sqrt', 'log2']\n",
    "}\n",
    "\n",
    "grid_search = GridSearchCV(RandomForestClassifier(random_state=42), \n",
    "                           param_grid, \n",
    "                           cv=5, \n",
    "                           n_jobs=-1, \n",
    "                           scoring='accuracy')\n",
    "grid_search.fit(X_train, y_train)\n",
    "\n",
    "print(\"Best parameters:\", grid_search.best_params_)\n",
    "print(\"Best cross-validation score:\", grid_search.best_score_)"
   ]
  },
  {
   "cell_type": "code",
   "execution_count": 20,
   "metadata": {},
   "outputs": [
    {
     "name": "stdout",
     "output_type": "stream",
     "text": [
      "Accuracy: 0.7586206896551724\n",
      "                     precision    recall  f1-score   support\n",
      "\n",
      "          FULFILLED       0.82      0.70      0.76        20\n",
      "PARTIALLY FULFILLED       0.73      0.89      0.80        18\n",
      "            REFUSED       0.74      0.70      0.72        20\n",
      "\n",
      "           accuracy                           0.76        58\n",
      "          macro avg       0.76      0.76      0.76        58\n",
      "       weighted avg       0.76      0.76      0.76        58\n",
      "\n"
     ]
    }
   ],
   "source": [
    "best_rf = grid_search.best_estimator_\n",
    "\n",
    "y_pred = best_rf.predict(X_test)\n",
    "\n",
    "print(\"Accuracy:\", accuracy_score(y_test, y_pred))\n",
    "print(classification_report(y_test, y_pred, target_names=le.classes_))"
   ]
  },
  {
   "cell_type": "code",
   "execution_count": 21,
   "metadata": {},
   "outputs": [
    {
     "name": "stdout",
     "output_type": "stream",
     "text": [
      "                           Feature  Importance\n",
      "1             Asked Penalty Amount    0.236919\n",
      "0           Asked Principal Amount    0.196192\n",
      "8   Total Value of Delivered Goods    0.144205\n",
      "7               Penalty Conditions    0.073852\n",
      "9             Partial Payment Made    0.065762\n",
      "6              Presence of Invoice    0.056414\n",
      "11       Presence of Demand Letter    0.053595\n",
      "10              Deadline Specified    0.049058\n",
      "12  Supporting Documents Presented    0.039050\n",
      "2                       Asked Fine    0.038984\n",
      "4   Presence of Reconciliation Act    0.029813\n",
      "3    Asked Unjustly Withheld Funds    0.010556\n",
      "5             Presence of Contract    0.005600\n"
     ]
    }
   ],
   "source": [
    "importances = best_rf.feature_importances_\n",
    "feature_importance_df = pd.DataFrame({'Feature': X.columns, 'Importance': importances})\n",
    "print(feature_importance_df.sort_values(by='Importance', ascending=False))"
   ]
  },
  {
   "cell_type": "code",
   "execution_count": 22,
   "metadata": {},
   "outputs": [
    {
     "name": "stdout",
     "output_type": "stream",
     "text": [
      "Predicted Outcome: PARTIALLY FULFILLED\n",
      "\n",
      "Probability for each possible outcome:\n",
      "FULFILLED: 0.00%\n",
      "PARTIALLY FULFILLED: 96.83%\n",
      "REFUSED: 3.17%\n"
     ]
    }
   ],
   "source": [
    "feature_names = X.columns.tolist()\n",
    "\n",
    "example_input = {\n",
    "    'Asked Principal Amount': 100000000.0,\n",
    "    'Asked Penalty Amount': 50000000.0,\n",
    "    'Asked Fine': 0.0,\n",
    "    'Asked Unjustly Withheld Funds': 0.0,\n",
    "    'Presence of Reconciliation Act': 0,\n",
    "    'Presence of Contract': 1,\n",
    "    'Presence of Invoice': 1,\n",
    "    'Penalty Conditions': 1,\n",
    "    'Total Value of Delivered Goods': 100000000.0,\n",
    "    'Partial Payment Made': 0,\n",
    "    'Deadline Specified': 1,\n",
    "    'Presence of Demand Letter': 1,\n",
    "    'Supporting Documents Presented': 1\n",
    "}\n",
    "\n",
    "input_df = pd.DataFrame([example_input], columns=feature_names)\n",
    "\n",
    "probabilities = best_rf.predict_proba(input_df)[0]\n",
    "outcome_probabilities = dict(zip(le.classes_, probabilities))\n",
    "\n",
    "prediction = best_rf.predict(input_df)\n",
    "outcome = le.inverse_transform(prediction)[0]\n",
    "\n",
    "print(f\"Predicted Outcome: {outcome}\")\n",
    "print(\"\\nProbability for each possible outcome:\")\n",
    "for outcome, prob in outcome_probabilities.items():\n",
    "    print(f\"{outcome}: {prob:.2%}\")\n",
    "\n"
   ]
  }
 ],
 "metadata": {
  "kernelspec": {
   "display_name": "Python 3",
   "language": "python",
   "name": "python3"
  },
  "language_info": {
   "codemirror_mode": {
    "name": "ipython",
    "version": 3
   },
   "file_extension": ".py",
   "mimetype": "text/x-python",
   "name": "python",
   "nbconvert_exporter": "python",
   "pygments_lexer": "ipython3",
   "version": "3.13.2"
  }
 },
 "nbformat": 4,
 "nbformat_minor": 2
}
